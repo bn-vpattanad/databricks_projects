{
 "cells": [
  {
   "cell_type": "markdown",
   "metadata": {
    "application/vnd.databricks.v1+cell": {
     "cellMetadata": {},
     "inputWidgets": {},
     "nuid": "e632f816-98e0-45b0-aef0-b565ee827136",
     "showTitle": false,
     "tableResultSettingsMap": {},
     "title": ""
    }
   },
   "source": [
    "#Labeling Stats Dashboard\n",
    "### below cells contains the DB SQL queries which is used to create the Statistical Visualizations in DBX Dashboard"
   ]
  },
  {
   "cell_type": "markdown",
   "metadata": {
    "application/vnd.databricks.v1+cell": {
     "cellMetadata": {},
     "inputWidgets": {},
     "nuid": "d6cc3e6a-bf7a-42c3-8767-c89f0412722b",
     "showTitle": false,
     "tableResultSettingsMap": {},
     "title": ""
    }
   },
   "source": [
    "\n",
    "### Information about the catalog, schema, and tables which are used in the Queries\n",
    "\n",
    "- **Catalog**: `enhanced_feedback`  \n",
    "- **Schema 1**: `bronze` → Table: `human_label_parsed`  \n",
    "- **Schema 2**: `silver` → Table: `customer_feedback`  \n",
    "- **Schema 3**: `gold` → Table: `email_digest`\n"
   ]
  },
  {
   "cell_type": "markdown",
   "metadata": {
    "application/vnd.databricks.v1+cell": {
     "cellMetadata": {},
     "inputWidgets": {},
     "nuid": "377f1b39-b727-42e3-8b5a-6c05af9e65da",
     "showTitle": false,
     "tableResultSettingsMap": {},
     "title": ""
    }
   },
   "source": [
    "# Dashboard : Labeling Stats\n",
    "### Query 1: Team Contributions for current week"
   ]
  },
  {
   "cell_type": "code",
   "execution_count": 0,
   "metadata": {
    "application/vnd.databricks.v1+cell": {
     "cellMetadata": {
      "byteLimit": 2048000,
      "rowLimit": 10000
     },
     "inputWidgets": {},
     "nuid": "6d482ab2-1b53-4c02-b43e-746626f41c4a",
     "showTitle": false,
     "tableResultSettingsMap": {},
     "title": ""
    }
   },
   "outputs": [],
   "source": [
    "WITH team_counts AS (\n",
    "    \n",
    "    SELECT\n",
    "        'Labeling team contribution' AS team, \n",
    "        COUNT(*) AS count_value \n",
    "    FROM enhanced_feedback.bronze.human_label_parsed\n",
    "    WHERE human_labels.Username IN ('adeshnur','deb', 'rkanase', 'mbalaraddi', 'smeti', 'mkoujalagi', 'srshetty', 'pred', 'ras', 'msheeri', 'avpatil')\n",
    "        AND approximateArrivalTimestamp IS NOT NULL\n",
    "        \n",
    "        AND DATE(approximateArrivalTimestamp) BETWEEN DATE_SUB(DATE_TRUNC('WEEK', CURRENT_DATE), 1)  -- Sunday of the current week\n",
    "                                             AND LEAST(CURRENT_DATE, DATE_ADD(DATE_SUB(DATE_TRUNC('WEEK', CURRENT_DATE), 1), 6))  -- up to today or Saturday\n",
    "    UNION ALL\n",
    "\n",
    "    \n",
    "    SELECT\n",
    "        'BRTS team contribution' AS team, \n",
    "        COUNT(*) AS count_value \n",
    "    FROM enhanced_feedback.bronze.human_label_parsed\n",
    "    WHERE human_labels.Username IN ('mshettar', 'skotyalkar', 'usharma', 'spoomalai', 'psethy', 'gkenja', 'stalekar', 'pob', 'aisk', 'vprasad', 'jkumar')\n",
    "        AND approximateArrivalTimestamp IS NOT NULL\n",
    "        \n",
    "        AND DATE(approximateArrivalTimestamp) BETWEEN DATE_SUB(DATE_TRUNC('WEEK', CURRENT_DATE), 1)  -- Sunday of the current week\n",
    "                                             AND LEAST(CURRENT_DATE, DATE_ADD(DATE_SUB(DATE_TRUNC('WEEK', CURRENT_DATE), 1), 6))  -- up to today or Saturday\n",
    "),\n",
    "\n",
    "LabelTotals AS (\n",
    "    SELECT\n",
    "        team,\n",
    "        count_value\n",
    "    FROM team_counts\n",
    "\n",
    "    UNION ALL\n",
    "\n",
    "    SELECT\n",
    "        'Total' AS team, \n",
    "        SUM(count_value) AS count_value \n",
    "    FROM team_counts\n",
    ")\n",
    "\n",
    "SELECT\n",
    "    team, \n",
    "    count_value \n",
    "FROM LabelTotals \n",
    "\n",
    "UNION ALL\n",
    "\n",
    "\n",
    "SELECT\n",
    "    'Fully classified emails' AS team, \n",
    "    COUNT(DISTINCT essMessageId) AS count_value \n",
    "from enhanced_feedback.silver.customer_feedback \n",
    "WHERE\n",
    "    labelData.human_label_count >= 3\n",
    "   and date(modificationTime) IS NOT NULL\n",
    "    AND DATE(modificationTime) BETWEEN DATE_SUB(DATE_TRUNC('WEEK', CURRENT_DATE), 1)  -- Sunday of the current week\n",
    "    AND LEAST(CURRENT_DATE, DATE_ADD(DATE_SUB(DATE_TRUNC('WEEK', CURRENT_DATE), 1), 6)); -- up to today or Saturday"
   ]
  },
  {
   "cell_type": "markdown",
   "metadata": {
    "application/vnd.databricks.v1+cell": {
     "cellMetadata": {},
     "inputWidgets": {},
     "nuid": "1fef7cde-de2d-45ae-88e4-10de1b827751",
     "showTitle": false,
     "tableResultSettingsMap": {},
     "title": ""
    }
   },
   "source": [
    "### Query 2 : Team Contributions for previous week"
   ]
  },
  {
   "cell_type": "code",
   "execution_count": 0,
   "metadata": {
    "application/vnd.databricks.v1+cell": {
     "cellMetadata": {
      "byteLimit": 2048000,
      "rowLimit": 10000
     },
     "inputWidgets": {},
     "nuid": "f6ae7802-e796-45d2-a03f-d25d362ed972",
     "showTitle": false,
     "tableResultSettingsMap": {},
     "title": ""
    }
   },
   "outputs": [],
   "source": [
    "WITH team_counts AS (\n",
    "    \n",
    "    SELECT\n",
    "        'Labeling team contribution' AS team, \n",
    "        COUNT(*) AS count_value \n",
    "    FROM enhanced_feedback.bronze.human_label_parsed\n",
    "    WHERE human_labels.Username IN ('adeshnur','deb', 'rkanase', 'mbalaraddi', 'smeti', 'mkoujalagi', 'srshetty', 'pred', 'ras', 'msheeri', 'avpatil')\n",
    "        AND approximateArrivalTimestamp IS NOT NULL\n",
    "        AND DATE(approximateArrivalTimestamp) BETWEEN DATE_SUB(DATE_TRUNC('WEEK', CURRENT_DATE), 8) -- Previous Sunday\n",
    "                                             AND DATE_SUB(DATE_TRUNC('WEEK', CURRENT_DATE), 2) -- Previous Saturday\n",
    "\n",
    "    UNION ALL\n",
    "\n",
    "    \n",
    "    SELECT\n",
    "        'BRTS team contribution' AS team, \n",
    "        COUNT(*) AS count_value \n",
    "    FROM enhanced_feedback.bronze.human_label_parsed\n",
    "    WHERE human_labels.Username IN ('mshettar', 'skotyalkar', 'usharma', 'spoomalai', 'psethy', 'gkenja', 'stalekar', 'pob', 'aisk', 'vprasad', 'jkumar')\n",
    "        AND approximateArrivalTimestamp IS NOT NULL\n",
    "        AND DATE(approximateArrivalTimestamp) BETWEEN DATE_SUB(DATE_TRUNC('WEEK', CURRENT_DATE), 8) -- Previous Sunday\n",
    "                                             AND DATE_SUB(DATE_TRUNC('WEEK', CURRENT_DATE), 2) -- Previous Saturday\n",
    "),\n",
    "\n",
    "LabelTotals AS (\n",
    "    SELECT\n",
    "        team,\n",
    "        count_value\n",
    "    FROM team_counts\n",
    "\n",
    "    UNION ALL\n",
    "\n",
    "    SELECT\n",
    "        'Total' AS team, \n",
    "        SUM(count_value) AS count_value \n",
    "    FROM team_counts\n",
    ")\n",
    "\n",
    "SELECT\n",
    "    team, \n",
    "    count_value \n",
    "FROM LabelTotals \n",
    "\n",
    "UNION ALL \n",
    "\n",
    "SELECT\n",
    "    'Fully classified emails' AS team, \n",
    "    COUNT(DISTINCT essMessageId) AS count_value \n",
    "from enhanced_feedback.silver.customer_feedback \n",
    "WHERE\n",
    "    labelData.human_label_count >= 3\n",
    "   and date(modificationTime) IS NOT NULL\n",
    "    AND DATE(modificationTime) BETWEEN DATE_SUB(DATE_TRUNC('WEEK', CURRENT_DATE), 8) AND DATE_SUB(DATE_TRUNC('WEEK', CURRENT_DATE), 2);"
   ]
  },
  {
   "cell_type": "markdown",
   "metadata": {
    "application/vnd.databricks.v1+cell": {
     "cellMetadata": {},
     "inputWidgets": {},
     "nuid": "36153c9e-b27a-4b7d-987c-b86ee2b1eff5",
     "showTitle": false,
     "tableResultSettingsMap": {},
     "title": ""
    }
   },
   "source": [
    "### Query 3 : Classification Stats by Priority Level for Current Week"
   ]
  },
  {
   "cell_type": "code",
   "execution_count": 0,
   "metadata": {
    "application/vnd.databricks.v1+cell": {
     "cellMetadata": {
      "byteLimit": 2048000,
      "rowLimit": 10000
     },
     "inputWidgets": {},
     "nuid": "d92e1aa6-1f41-4d54-a0f5-0c419f9b1590",
     "showTitle": false,
     "tableResultSettingsMap": {},
     "title": ""
    }
   },
   "outputs": [],
   "source": [
    "WITH current_week AS (\n",
    "    SELECT \n",
    "        date_sub(current_date(), dayofweek(current_date()) - 1) AS start_date,  -- Most recent Sunday\n",
    "        date_add(date_sub(current_date(), dayofweek(current_date()) - 1), 6) AS end_date  -- Following Saturday\n",
    ")\n",
    "SELECT\n",
    "    Priority AS Queue,\n",
    "    SUM(CASE WHEN Agreement = 'All Agreed' THEN sample_count ELSE 0 END) AS `All agreed`,\n",
    "    SUM(CASE WHEN Agreement = 'Majority' THEN sample_count ELSE 0 END) AS `Majority`,\n",
    "    SUM(CASE WHEN Agreement = 'Disagreement' THEN sample_count ELSE 0 END) AS `Disagreement`\n",
    "FROM\n",
    "    (\n",
    "        SELECT\n",
    "          quorum AS Quorum,\n",
    "          label_agreement AS Agreement,\n",
    "          labels.priority AS Priority,\n",
    "          TO_DATE(reports.modificationTime) AS `Report Time`,\n",
    "          COUNT(*) AS sample_count\n",
    "        FROM\n",
    "          (\n",
    "            SELECT\n",
    "              ID,\n",
    "              priority,\n",
    "              IF(SUM(num_users) >= 3, \"Reached Quorum\", \"Did not reach Quorum\") AS quorum,\n",
    "              CASE\n",
    "                WHEN COUNT(DISTINCT label) = 1 THEN \"All Agreed\"\n",
    "                WHEN MAX(num_users) > SUM(num_users) / 2 THEN \"Majority\"\n",
    "                ELSE \"Disagreement\"\n",
    "              END AS label_agreement\n",
    "            FROM\n",
    "              (\n",
    "                SELECT\n",
    "                  ID,\n",
    "                  label,\n",
    "                  priority,\n",
    "                  MIN(`Timestamp`) AS first_label_timestamp,\n",
    "                  COUNT(DISTINCT Username) AS num_users\n",
    "                FROM\n",
    "                  (\n",
    "                    SELECT\n",
    "                      human_labels.ID,\n",
    "                      human_labels.Username,\n",
    "                      FIRST_VALUE(human_labels.Label) AS label,\n",
    "                      FIRST_VALUE(human_labels.`Timestamp`) AS `Timestamp`,\n",
    "                      cf.priority\n",
    "                    FROM enhanced_feedback.bronze.human_label_parsed hlp\n",
    "                    LEFT JOIN enhanced_feedback.silver.customer_feedback cf\n",
    "                      ON hlp.human_labels.ID = cf.sha256_id\n",
    "                    GROUP BY\n",
    "                      human_labels.ID,\n",
    "                      human_labels.Username,\n",
    "                      cf.priority\n",
    "                  ) labels\n",
    "                GROUP BY\n",
    "                  ID,\n",
    "                  label,\n",
    "                  priority\n",
    "              )\n",
    "            WHERE\n",
    "              first_label_timestamp >= (SELECT start_date FROM current_week)\n",
    "            GROUP BY\n",
    "              ID,\n",
    "              priority\n",
    "          ) labels\n",
    "        LEFT JOIN enhanced_feedback.silver.customer_feedback reports\n",
    "          ON labels.ID = reports.sha256_id\n",
    "        WHERE \n",
    "          reports.modificationTime >= (SELECT start_date FROM current_week)\n",
    "          AND reports.modificationTime < date_add((SELECT end_date FROM current_week), 1)\n",
    "          AND quorum = 'Reached Quorum'\n",
    "          AND labels.priority IN ('P0', 'P1','P2')\n",
    "        GROUP BY\n",
    "          quorum,\n",
    "          label_agreement,\n",
    "          labels.priority,\n",
    "          TO_DATE(reports.modificationTime)\n",
    "    ) AS daily_stats\n",
    "GROUP BY\n",
    "    Priority\n",
    "ORDER BY\n",
    "    Priority;"
   ]
  },
  {
   "cell_type": "markdown",
   "metadata": {
    "application/vnd.databricks.v1+cell": {
     "cellMetadata": {},
     "inputWidgets": {},
     "nuid": "df379101-9c8b-4c18-8834-b057a36b92b2",
     "showTitle": false,
     "tableResultSettingsMap": {},
     "title": ""
    }
   },
   "source": [
    "### Query 4 : Classification Stats by Priority Level for Previous Week"
   ]
  },
  {
   "cell_type": "code",
   "execution_count": 0,
   "metadata": {
    "application/vnd.databricks.v1+cell": {
     "cellMetadata": {
      "byteLimit": 2048000,
      "rowLimit": 10000
     },
     "inputWidgets": {},
     "nuid": "7dbe5e13-33ab-4710-b64a-af05991a1c0c",
     "showTitle": false,
     "tableResultSettingsMap": {},
     "title": ""
    }
   },
   "outputs": [],
   "source": [
    "WITH previous_week AS (\n",
    "    SELECT \n",
    "        date_sub(date_sub(CURRENT_DATE, DAYOFWEEK(CURRENT_DATE) - 1), 7) AS start_date,  -- Sunday before current week's Sunday\n",
    "        date_sub(date_sub(CURRENT_DATE, DAYOFWEEK(CURRENT_DATE) - 1), 1) AS end_date  -- Saturday before current week's Sunday\n",
    ")\n",
    "SELECT\n",
    "    Priority AS Queue,\n",
    "    SUM(CASE WHEN Agreement = 'All Agreed' THEN sample_count ELSE 0 END) AS `All agreed`,\n",
    "    SUM(CASE WHEN Agreement = 'Majority' THEN sample_count ELSE 0 END) AS `Majority`,\n",
    "    SUM(CASE WHEN Agreement = 'Disagreement' THEN sample_count ELSE 0 END) AS `Disagreement`\n",
    "FROM\n",
    "    (\n",
    "        SELECT\n",
    "          quorum AS Quorum,\n",
    "          label_agreement AS Agreement,\n",
    "          labels.priority AS Priority,\n",
    "          TO_DATE(reports.modificationTime) AS `Report Time`,\n",
    "          COUNT(*) AS sample_count\n",
    "        FROM\n",
    "          (\n",
    "            SELECT\n",
    "              ID,\n",
    "              priority,\n",
    "              IF(SUM(num_users) >= 3, \"Reached Quorum\", \"Did not reach Quorum\") AS quorum,\n",
    "              CASE\n",
    "                WHEN COUNT(DISTINCT label) = 1 THEN \"All Agreed\"\n",
    "                WHEN MAX(num_users) > SUM(num_users) / 2 THEN \"Majority\"\n",
    "                ELSE \"Disagreement\"\n",
    "              END AS label_agreement\n",
    "            FROM\n",
    "              (\n",
    "                SELECT\n",
    "                  ID,\n",
    "                  label,\n",
    "                  priority,\n",
    "                  MIN(`Timestamp`) AS first_label_timestamp,\n",
    "                  COUNT(DISTINCT Username) AS num_users\n",
    "                FROM\n",
    "                  (\n",
    "                    SELECT\n",
    "                      human_labels.ID,\n",
    "                      human_labels.Username,\n",
    "                      FIRST_VALUE(human_labels.Label) AS label,\n",
    "                      FIRST_VALUE(human_labels.`Timestamp`) AS `Timestamp`,\n",
    "                      cf.priority\n",
    "                    FROM enhanced_feedback.bronze.human_label_parsed hlp\n",
    "                    LEFT JOIN enhanced_feedback.silver.customer_feedback cf\n",
    "                      ON hlp.human_labels.ID = cf.sha256_id\n",
    "                    GROUP BY\n",
    "                      human_labels.ID,\n",
    "                      human_labels.Username,\n",
    "                      cf.priority\n",
    "                  ) labels\n",
    "                GROUP BY\n",
    "                  ID,\n",
    "                  label,\n",
    "                  priority\n",
    "              )\n",
    "            WHERE\n",
    "              first_label_timestamp >= (SELECT start_date FROM previous_week)\n",
    "            GROUP BY\n",
    "              ID,\n",
    "              priority\n",
    "          ) labels\n",
    "        LEFT JOIN enhanced_feedback.silver.customer_feedback reports\n",
    "          ON labels.ID = reports.sha256_id\n",
    "        WHERE \n",
    "          reports.modificationTime >= (SELECT start_date FROM previous_week)\n",
    "          AND reports.modificationTime < date_add((SELECT end_date FROM previous_week), 1)\n",
    "          AND quorum = 'Reached Quorum'\n",
    "          AND labels.priority IN ('P0', 'P1','P2')\n",
    "        GROUP BY\n",
    "          quorum,\n",
    "          label_agreement,\n",
    "          labels.priority,\n",
    "          TO_DATE(reports.modificationTime)\n",
    "    ) AS daily_stats\n",
    "GROUP BY\n",
    "    Priority\n",
    "ORDER BY\n",
    "    Priority;"
   ]
  },
  {
   "cell_type": "markdown",
   "metadata": {
    "application/vnd.databricks.v1+cell": {
     "cellMetadata": {},
     "inputWidgets": {},
     "nuid": "76576cd2-7ab7-4c2a-a0d6-6922a717b576",
     "showTitle": false,
     "tableResultSettingsMap": {},
     "title": ""
    }
   },
   "source": [
    "# Dashboard 1 : labeling stats \n",
    "![dashboard_image1.png](./dashboard_image1.png \"dashboard_image1.png\")"
   ]
  },
  {
   "cell_type": "markdown",
   "metadata": {
    "application/vnd.databricks.v1+cell": {
     "cellMetadata": {},
     "inputWidgets": {},
     "nuid": "57159b80-647c-4adb-8112-dc19cca5bfe8",
     "showTitle": false,
     "tableResultSettingsMap": {},
     "title": ""
    }
   },
   "source": [
    "# Dashboard : Analyst labeling Stats\n",
    "### Query 1: Analyst labeling stats for current week"
   ]
  },
  {
   "cell_type": "code",
   "execution_count": 0,
   "metadata": {
    "application/vnd.databricks.v1+cell": {
     "cellMetadata": {
      "byteLimit": 2048000,
      "rowLimit": 10000
     },
     "inputWidgets": {},
     "nuid": "6765b179-b6c1-466d-8ae3-8757f7859ea9",
     "showTitle": false,
     "tableResultSettingsMap": {},
     "title": ""
    }
   },
   "outputs": [],
   "source": [
    "WITH daily_counts AS (\n",
    "    SELECT\n",
    "        human_labels.Username AS analyst,\n",
    "        DATE(approximateArrivalTimestamp) AS date,\n",
    "        COUNT(*) AS daily_count\n",
    "    FROM\n",
    "        enhanced_feedback.bronze.human_label_parsed AS human_labels\n",
    "    WHERE\n",
    "        approximateArrivalTimestamp IS NOT NULL\n",
    "        AND DATE(approximateArrivalTimestamp) \n",
    "        BETWEEN DATE_SUB(DATE_TRUNC('WEEK', CURRENT_DATE), 1) -- Get Sunday\n",
    "        AND LEAST(CURRENT_DATE, DATE_ADD(DATE_SUB(DATE_TRUNC('WEEK', CURRENT_DATE), 1), 6)) -- Get Saturday\n",
    "        AND human_labels.Username IS NOT NULL\n",
    "    GROUP BY\n",
    "        human_labels.Username, DATE(approximateArrivalTimestamp)\n",
    "),\n",
    "weekly_counts AS (\n",
    "    SELECT\n",
    "        analyst,\n",
    "        SUM(daily_count) AS weekly_total\n",
    "    FROM\n",
    "        daily_counts\n",
    "    GROUP BY\n",
    "        analyst\n",
    ")\n",
    "SELECT\n",
    "    0 as sort_key,\n",
    "    dc.analyst,\n",
    "    SUM(CASE WHEN DAYOFWEEK(dc.date) = 1 THEN dc.daily_count ELSE 0 END) AS Sunday,\n",
    "    SUM(CASE WHEN DAYOFWEEK(dc.date) = 2 THEN dc.daily_count ELSE 0 END) AS Monday,\n",
    "    SUM(CASE WHEN DAYOFWEEK(dc.date) = 3 THEN dc.daily_count ELSE 0 END) AS Tuesday,\n",
    "    SUM(CASE WHEN DAYOFWEEK(dc.date) = 4 THEN dc.daily_count ELSE 0 END) AS Wednesday,\n",
    "    SUM(CASE WHEN DAYOFWEEK(dc.date) = 5 THEN dc.daily_count ELSE 0 END) AS Thursday,\n",
    "    SUM(CASE WHEN DAYOFWEEK(dc.date) = 6 THEN dc.daily_count ELSE 0 END) AS Friday,\n",
    "    SUM(CASE WHEN DAYOFWEEK(dc.date) = 7 THEN dc.daily_count ELSE 0 END) AS Saturday,\n",
    "    SUM(dc.daily_count) AS Total_Analyst_Count_Of_The_Week\n",
    "FROM\n",
    "    daily_counts dc\n",
    "GROUP BY\n",
    "    sort_key,dc.analyst\n",
    "UNION ALL\n",
    "SELECT\n",
    "    1 as sort_key,\n",
    "    'Total' AS analyst,\n",
    "    SUM(CASE WHEN DAYOFWEEK(dc.date) = 1 THEN dc.daily_count ELSE 0 END) AS Sunday,\n",
    "    SUM(CASE WHEN DAYOFWEEK(dc.date) = 2 THEN dc.daily_count ELSE 0 END) AS Monday,\n",
    "    SUM(CASE WHEN DAYOFWEEK(dc.date) = 3 THEN dc.daily_count ELSE 0 END) AS Tuesday,   \n",
    "    SUM(CASE WHEN DAYOFWEEK(dc.date) = 4 THEN dc.daily_count ELSE 0 END) AS Wednesday,\n",
    "    SUM(CASE WHEN DAYOFWEEK(dc.date) = 5 THEN dc.daily_count ELSE 0 END) AS Thursday,\n",
    "    SUM(CASE WHEN DAYOFWEEK(dc.date) = 6 THEN dc.daily_count ELSE 0 END) AS Friday,\n",
    "    SUM(CASE WHEN DAYOFWEEK(dc.date) = 7 THEN dc.daily_count ELSE 0 END) AS Saturday,\n",
    "    SUM(dc.daily_count) AS Total_Analyst_Count_Of_The_Week\n",
    "FROM\n",
    "    daily_counts dc\n",
    "\n",
    "ORDER BY sort_key, analyst;\n"
   ]
  },
  {
   "cell_type": "markdown",
   "metadata": {
    "application/vnd.databricks.v1+cell": {
     "cellMetadata": {},
     "inputWidgets": {},
     "nuid": "0ca89049-fc49-4d0b-a0f1-128b7bcb287f",
     "showTitle": false,
     "tableResultSettingsMap": {},
     "title": ""
    }
   },
   "source": [
    "### Query 2: Analyst labeling stats for Previous week"
   ]
  },
  {
   "cell_type": "code",
   "execution_count": 0,
   "metadata": {
    "application/vnd.databricks.v1+cell": {
     "cellMetadata": {
      "byteLimit": 2048000,
      "rowLimit": 10000
     },
     "inputWidgets": {},
     "nuid": "f7a49982-9e25-4457-9912-9baacd8bdcd7",
     "showTitle": false,
     "tableResultSettingsMap": {},
     "title": ""
    }
   },
   "outputs": [],
   "source": [
    "WITH daily_counts AS (\n",
    "    SELECT\n",
    "        human_labels.Username AS analyst,\n",
    "        DATE(approximateArrivalTimestamp) AS date,\n",
    "        COUNT(*) AS daily_count\n",
    "    FROM\n",
    "        enhanced_feedback.bronze.human_label_parsed AS human_labels\n",
    "    WHERE\n",
    "        approximateArrivalTimestamp IS NOT NULL\n",
    "        AND DATE(approximateArrivalTimestamp)\n",
    "        BETWEEN DATE_SUB(DATE_TRUNC('WEEK', CURRENT_DATE), 8) -- Get previous Sunday\n",
    "        AND DATE_SUB(DATE_TRUNC('WEEK', CURRENT_DATE), 2) -- Get previous Saturday\n",
    "        AND human_labels.Username IS NOT NULL\n",
    "    GROUP BY\n",
    "        human_labels.Username, DATE(approximateArrivalTimestamp)\n",
    ")\n",
    "\n",
    "SELECT\n",
    "    0 AS sort_key, \n",
    "    dc.analyst,\n",
    "    SUM(CASE WHEN DAYOFWEEK(dc.date) = 1 THEN dc.daily_count ELSE 0 END) AS Sunday,\n",
    "    SUM(CASE WHEN DAYOFWEEK(dc.date) = 2 THEN dc.daily_count ELSE 0 END) AS Monday,\n",
    "    SUM(CASE WHEN DAYOFWEEK(dc.date) = 3 THEN dc.daily_count ELSE 0 END) AS Tuesday,\n",
    "    SUM(CASE WHEN DAYOFWEEK(dc.date) = 4 THEN dc.daily_count ELSE 0 END) AS Wednesday,\n",
    "    SUM(CASE WHEN DAYOFWEEK(dc.date) = 5 THEN dc.daily_count ELSE 0 END) AS Thursday,\n",
    "    SUM(CASE WHEN DAYOFWEEK(dc.date) = 6 THEN dc.daily_count ELSE 0 END) AS Friday,\n",
    "    SUM(CASE WHEN DAYOFWEEK(dc.date) = 7 THEN dc.daily_count ELSE 0 END) AS Saturday,\n",
    "    SUM(dc.daily_count) AS Total_Analyst_Count_Of_The_Week\n",
    "FROM\n",
    "    daily_counts dc\n",
    "GROUP BY\n",
    "    sort_key, dc.analyst \n",
    "\n",
    "UNION ALL\n",
    "\n",
    "\n",
    "SELECT\n",
    "    1 AS sort_key, \n",
    "    'Total' AS analyst,\n",
    "    SUM(CASE WHEN DAYOFWEEK(dc.date) = 1 THEN dc.daily_count ELSE 0 END) AS Sunday,\n",
    "    SUM(CASE WHEN DAYOFWEEK(dc.date) = 2 THEN dc.daily_count ELSE 0 END) AS Monday,\n",
    "    SUM(CASE WHEN DAYOFWEEK(dc.date) = 3 THEN dc.daily_count ELSE 0 END) AS Tuesday,\n",
    "    SUM(CASE WHEN DAYOFWEEK(dc.date) = 4 THEN dc.daily_count ELSE 0 END) AS Wednesday,\n",
    "    SUM(CASE WHEN DAYOFWEEK(dc.date) = 5 THEN dc.daily_count ELSE 0 END) AS Thursday,\n",
    "    SUM(CASE WHEN DAYOFWEEK(dc.date) = 6 THEN dc.daily_count ELSE 0 END) AS Friday,\n",
    "    SUM(CASE WHEN DAYOFWEEK(dc.date) = 7 THEN dc.daily_count ELSE 0 END) AS Saturday,\n",
    "    SUM(dc.daily_count) AS Total_Analyst_Count_Of_The_Week\n",
    "FROM\n",
    "    daily_counts dc \n",
    "\n",
    "ORDER BY sort_key, analyst;"
   ]
  },
  {
   "cell_type": "markdown",
   "metadata": {
    "application/vnd.databricks.v1+cell": {
     "cellMetadata": {},
     "inputWidgets": {},
     "nuid": "6747b02c-32bd-4f9f-a58d-f37826acb26e",
     "showTitle": false,
     "tableResultSettingsMap": {},
     "title": ""
    }
   },
   "source": [
    "# Dashboard 2: Analyst labeling Stats\n",
    "![dashboard_image2.png](./dashboard_image2.png \"dashboard_image2.png\")\n",
    "![dashboard_image3.png](./dashboard_image3.png \"dashboard_image3.png\")\n",
    "![dashboard_image4.png](./dashboard_image4.png \"dashboard_image4.png\")\n",
    "![dashboard_image5.png](./dashboard_image5.png \"dashboard_image5.png\")"
   ]
  },
  {
   "cell_type": "markdown",
   "metadata": {
    "application/vnd.databricks.v1+cell": {
     "cellMetadata": {},
     "inputWidgets": {},
     "nuid": "10068ea2-5ab6-49b0-a62d-579a7970ddb7",
     "showTitle": false,
     "tableResultSettingsMap": {},
     "title": ""
    }
   },
   "source": [
    "# Dashboard : Disagreement Stats Summary\n",
    "### Query 1 : Disagreement Stats (past 7 days range) used for Disagreement count bar chart"
   ]
  },
  {
   "cell_type": "code",
   "execution_count": 0,
   "metadata": {
    "application/vnd.databricks.v1+cell": {
     "cellMetadata": {
      "byteLimit": 2048000,
      "rowLimit": 10000
     },
     "inputWidgets": {},
     "nuid": "59d23e83-cabb-42d7-926a-9157ea23ae7e",
     "showTitle": false,
     "tableResultSettingsMap": {},
     "title": ""
    }
   },
   "outputs": [],
   "source": [
    "SELECT\n",
    "  priority AS QueuePriority,\n",
    "  essMessageId AS ESS_ID,\n",
    "  modificationTime AS ReportedDate,\n",
    "  labelData.history[1]['user'] AS first_human_classifier,\n",
    "  labelData.history[1]['label'] AS first_classification,\n",
    "  labelData.history[2]['user'] AS second_human_classifier,\n",
    "  labelData.history[2]['label'] AS second_classification,\n",
    "  labelData.history[3]['user'] AS third_human_classifier,\n",
    "  labelData.history[3]['label'] AS third_classification,\n",
    "  labelData.history[4]['user'] AS disagreement_resolver,\n",
    "  labelData.history[4]['label'] AS final_classification,\n",
    "  labelData.human_label_count AS NumberOfHumanLabels,\n",
    "\n",
    "  -- dis_analyst1\n",
    "  CASE\n",
    "    WHEN first_classification != final_classification AND second_classification != final_classification THEN first_human_classifier\n",
    "    WHEN first_classification != final_classification AND third_classification != final_classification THEN first_human_classifier\n",
    "    WHEN second_classification != final_classification AND third_classification != final_classification THEN second_human_classifier\n",
    "    WHEN first_classification != final_classification THEN first_human_classifier\n",
    "    WHEN second_classification != final_classification THEN second_human_classifier\n",
    "    WHEN third_classification != final_classification THEN third_human_classifier\n",
    "    ELSE NULL\n",
    "  END AS dis_analyst1,\n",
    "  --  dis_analyst2 \n",
    "  CASE\n",
    "    WHEN first_classification != final_classification AND second_classification != final_classification THEN second_human_classifier\n",
    "    WHEN first_classification != final_classification AND third_classification != final_classification THEN third_human_classifier\n",
    "    WHEN second_classification != final_classification AND third_classification != final_classification THEN third_human_classifier\n",
    "    ELSE NULL\n",
    "  END AS dis_analyst2\n",
    "FROM\n",
    "  enhanced_feedback.silver.customer_feedback\n",
    "WHERE\n",
    "  labelData.human_label_count >= 3\n",
    "  AND labelData.history IS NOT NULL\n",
    "  AND labelData.history[1]['label'] IS NOT NULL\n",
    "  AND labelData.history[2]['label'] IS NOT NULL\n",
    "  AND labelData.history[3]['label'] IS NOT NULL\n",
    "  AND labelData.history[4]['label'] IS NOT NULL \n",
    "  AND labelData.history[1]['label'] != labelData.history[2]['label']\n",
    "  AND labelData.history[1]['label'] != labelData.history[3]['label']\n",
    "  AND labelData.history[2]['label'] != labelData.history[3]['label']\n",
    "  AND DATE(modificationTime) >= DATE_SUB(NOW(), 7);"
   ]
  },
  {
   "cell_type": "markdown",
   "metadata": {
    "application/vnd.databricks.v1+cell": {
     "cellMetadata": {},
     "inputWidgets": {},
     "nuid": "b436df01-c18b-46b5-88f8-de5009709ad5",
     "showTitle": false,
     "tableResultSettingsMap": {},
     "title": ""
    }
   },
   "source": [
    "# Query 2 : Disagreements stats per analyst (14 days) used for bar chart and table visualization in the dashboard"
   ]
  },
  {
   "cell_type": "code",
   "execution_count": 0,
   "metadata": {
    "application/vnd.databricks.v1+cell": {
     "cellMetadata": {
      "byteLimit": 2048000,
      "rowLimit": 10000
     },
     "inputWidgets": {},
     "nuid": "ef067875-5866-4a27-a628-8688dd463a56",
     "showTitle": false,
     "tableResultSettingsMap": {},
     "title": ""
    }
   },
   "outputs": [],
   "source": [
    "WITH DisagreementSamples AS (\n",
    "  SELECT\n",
    "    priority AS QueuePriority,\n",
    "    essMessageId AS ESS_ID,\n",
    "    modificationTime AS ReportedDate,\n",
    "    labelData.history AS LabelHistory,\n",
    "    labelData.history[1]['user'] AS first_human_classifier,\n",
    "    labelData.history[1]['label'] AS first_classification,\n",
    "    labelData.history[2]['user'] AS second_human_classifier,\n",
    "    labelData.history[2]['label'] AS second_classification,\n",
    "    labelData.history[3]['user'] AS third_human_classifier,\n",
    "    labelData.history[3]['label'] AS third_classification,\n",
    "    labelData.history[4]['user'] AS disagreement_resolver,\n",
    "    labelData.history[4]['label'] AS final_classification,\n",
    "    labelData.human_label_count AS NumberOfHumanLabels,\n",
    "    -- dis_analyst1 calculation \n",
    "    CASE\n",
    "      WHEN first_classification != final_classification AND second_classification != final_classification THEN first_human_classifier\n",
    "      WHEN first_classification != final_classification AND third_classification != final_classification THEN first_human_classifier\n",
    "      WHEN second_classification != final_classification AND third_classification != final_classification THEN second_human_classifier\n",
    "      WHEN first_classification != final_classification THEN first_human_classifier\n",
    "      WHEN second_classification != final_classification THEN second_human_classifier\n",
    "      WHEN third_classification != final_classification THEN third_human_classifier\n",
    "      ELSE NULL\n",
    "    END AS dis_analyst1,\n",
    "    -- dis_analyst2 calculation \n",
    "    CASE\n",
    "      WHEN first_classification != final_classification AND second_classification != final_classification THEN second_human_classifier\n",
    "      WHEN first_classification != final_classification AND third_classification != final_classification THEN third_human_classifier\n",
    "      WHEN second_classification != final_classification AND third_classification != final_classification THEN third_human_classifier\n",
    "      ELSE NULL\n",
    "    END AS dis_analyst2\n",
    "  FROM\n",
    "    enhanced_feedback.silver.customer_feedback\n",
    "  WHERE\n",
    "    labelData.human_label_count >= 3\n",
    "    AND labelData.history IS NOT NULL\n",
    "    AND labelData.history[1]['label'] IS NOT NULL\n",
    "    AND labelData.history[2]['label'] IS NOT NULL\n",
    "    AND labelData.history[3]['label'] IS NOT NULL\n",
    "    AND labelData.history[4]['label'] IS NOT NULL\n",
    "    AND labelData.history[1]['label'] != labelData.history[2]['label']\n",
    "    AND labelData.history[1]['label'] != labelData.history[3]['label']\n",
    "    AND labelData.history[2]['label'] != labelData.history[3]['label']\n",
    "    AND DATE(modificationTime) >= DATE_SUB(NOW(), 14)\n",
    ")\n",
    "\n",
    "SELECT\n",
    "  QueuePriority,\n",
    "  ESS_ID,\n",
    "  ReportedDate,\n",
    "  LabelHistory,\n",
    "  first_human_classifier,\n",
    "  first_classification,\n",
    "  second_human_classifier,\n",
    "  second_classification,\n",
    "  third_human_classifier,\n",
    "  third_classification,\n",
    "  disagreement_resolver,\n",
    "  final_classification,\n",
    "  NumberOfHumanLabels,\n",
    "\n",
    "  dis_analyst1 AS InvolvedAnalyst, \n",
    "  CASE\n",
    "    WHEN dis_analyst1 = first_human_classifier THEN first_classification\n",
    "    WHEN dis_analyst1 = second_human_classifier THEN second_classification\n",
    "    WHEN dis_analyst1 = third_human_classifier THEN third_classification\n",
    "    ELSE NULL \n",
    "  END AS dis_classification \n",
    "FROM\n",
    "  DisagreementSamples\n",
    "WHERE\n",
    "  dis_analyst1 IS NOT NULL \n",
    "\n",
    "UNION ALL\n",
    "SELECT\n",
    "  QueuePriority,\n",
    "  ESS_ID,\n",
    "  ReportedDate,\n",
    "  LabelHistory,\n",
    "  first_human_classifier,\n",
    "  first_classification,\n",
    "  second_human_classifier,\n",
    "  second_classification,\n",
    "  third_human_classifier,\n",
    "  third_classification,\n",
    "  disagreement_resolver,\n",
    "  final_classification,\n",
    "  NumberOfHumanLabels,\n",
    "  dis_analyst2 AS InvolvedAnalyst, \n",
    "  CASE\n",
    "    WHEN dis_analyst2 = first_human_classifier THEN first_classification\n",
    "    WHEN dis_analyst2 = second_human_classifier THEN second_classification\n",
    "    WHEN dis_analyst2 = third_human_classifier THEN third_classification\n",
    "    ELSE NULL \n",
    "  END AS dis_classification \n",
    "FROM\n",
    "  DisagreementSamples\n",
    "WHERE\n",
    "  dis_analyst2 IS NOT NULL \n",
    "  AND dis_analyst1 != dis_analyst2; \n"
   ]
  },
  {
   "cell_type": "markdown",
   "metadata": {
    "application/vnd.databricks.v1+cell": {
     "cellMetadata": {},
     "inputWidgets": {},
     "nuid": "a66957cf-c22b-4a65-9eaf-ca1d33aceb40",
     "showTitle": false,
     "tableResultSettingsMap": {},
     "title": ""
    }
   },
   "source": [
    "# Dashboard 3 : Disagreement Stats Summary\n",
    "![dashboard_image6.png](./dashboard_image6.png \"dashboard_image6.png\")\n",
    "![dashboard_image7.png](./dashboard_image7.png \"dashboard_image7.png\")"
   ]
  },
  {
   "cell_type": "markdown",
   "metadata": {
    "application/vnd.databricks.v1+cell": {
     "cellMetadata": {},
     "inputWidgets": {},
     "nuid": "60ac80d2-8672-4229-bc29-a5b131e054f8",
     "showTitle": false,
     "tableResultSettingsMap": {},
     "title": ""
    }
   },
   "source": [
    "# Dashboard : SLA stats summary\n",
    "### Query 1 : SLA nearing samples (For last the 40 to 48 hrs) used for the table visualization"
   ]
  },
  {
   "cell_type": "code",
   "execution_count": 0,
   "metadata": {
    "application/vnd.databricks.v1+cell": {
     "cellMetadata": {
      "byteLimit": 2048000,
      "rowLimit": 10000
     },
     "inputWidgets": {},
     "nuid": "da5a26f9-6b96-4d4a-bd07-31ff0fc8b0ed",
     "showTitle": false,
     "tableResultSettingsMap": {},
     "title": ""
    }
   },
   "outputs": [],
   "source": [
    "WITH sha256_id_lookup AS (\n",
    "   SELECT DISTINCT sha256_id from enhanced_feedback.silver.labeling_ui\n",
    "),\n",
    "P0_samples AS (\n",
    "    SELECT DISTINCT\n",
    "        cf.essMessageId,\n",
    "        cf.labelData.report_date,\n",
    "        cf.labelData.human_label_count\n",
    "    FROM \n",
    "        enhanced_feedback.silver.customer_feedback cf\n",
    "        LEFT JOIN sha256_id_lookup sli \n",
    "        ON cf.sha256_id = sli.sha256_id\n",
    "    WHERE \n",
    "        cf.priority = 'P0'  \n",
    "        AND cf.labelData.human_label_count < 3  \n",
    "        AND cf.labelData.report_date >= current_timestamp() - INTERVAL '48 hours'\n",
    "        AND cf.labelData.report_date <= current_timestamp() - INTERVAL '40 hours'\n",
    ")\n",
    "SELECT essMessageId, report_date, human_label_count\n",
    "FROM P0_samples;"
   ]
  },
  {
   "cell_type": "markdown",
   "metadata": {
    "application/vnd.databricks.v1+cell": {
     "cellMetadata": {},
     "inputWidgets": {},
     "nuid": "ba2ca20c-50ed-4cc2-ade0-880a4c2d4f13",
     "showTitle": false,
     "tableResultSettingsMap": {},
     "title": ""
    }
   },
   "source": [
    "### Query 2 : Current week sla expiry"
   ]
  },
  {
   "cell_type": "code",
   "execution_count": 0,
   "metadata": {
    "application/vnd.databricks.v1+cell": {
     "cellMetadata": {
      "byteLimit": 2048000,
      "rowLimit": 10000
     },
     "inputWidgets": {},
     "nuid": "311e93d0-a882-4230-8817-9adcc1d4f380",
     "showTitle": false,
     "tableResultSettingsMap": {},
     "title": ""
    }
   },
   "outputs": [],
   "source": [
    "-- counts for 'Analyzed but missed SLA' sends\n",
    "CREATE OR REPLACE TEMPORARY VIEW p0_missed_sla_sends\n",
    "AS\n",
    "SELECT\n",
    "  DATE(ed.report_timestamp) AS received_date,\n",
    "  COUNT(DISTINCT ed.sha256_id) AS missed_sla_sends_count\n",
    "FROM enhanced_feedback.gold.email_digest ed\n",
    "LEFT JOIN enhanced_feedback.silver.labeling_ui ui ON ed.sha256_id = ui.sha256_id\n",
    "WHERE ui.priority = 'P0'\n",
    "  AND ed.report_timestamp > DATE_SUB(NOW(), 30) \n",
    "  AND (\n",
    "    sent_at_timestamp IS NOT NULL AND analysis_timestamp IS NOT NULL AND date_sub(analysis_timestamp, 2) > report_timestamp\n",
    "  )\n",
    "GROUP BY DATE(ed.report_timestamp);\n",
    "\n",
    "--   CURRENT week (Sunday to Saturday)\n",
    "WITH DateSeries AS (\n",
    "  SELECT date_add(date_sub(current_date(), dayofweek(current_date()) - 1), n) AS report_date\n",
    "  FROM (SELECT explode(sequence(0, 6)) AS n) \n",
    ")\n",
    "\n",
    "SELECT\n",
    "  date_format(report_date, 'EEEE') AS day_name,\n",
    "  COALESCE(ps.missed_sla_sends_count, 0) AS sla_expired_count,\n",
    "  ds.report_date AS reported_date\n",
    "FROM\n",
    "  DateSeries ds\n",
    "LEFT JOIN\n",
    "  p0_missed_sla_sends ps ON ds.report_date = ps.received_date\n",
    "ORDER BY\n",
    "  dayofweek(ds.report_date); "
   ]
  },
  {
   "cell_type": "markdown",
   "metadata": {
    "application/vnd.databricks.v1+cell": {
     "cellMetadata": {},
     "inputWidgets": {},
     "nuid": "5374a6f2-efe7-49d5-9659-768f449d224a",
     "showTitle": false,
     "tableResultSettingsMap": {},
     "title": ""
    }
   },
   "source": [
    "### Query 3 : Previous week sla expiry"
   ]
  },
  {
   "cell_type": "code",
   "execution_count": 0,
   "metadata": {
    "application/vnd.databricks.v1+cell": {
     "cellMetadata": {
      "byteLimit": 2048000,
      "rowLimit": 10000
     },
     "inputWidgets": {},
     "nuid": "d7c8606a-78ba-41e1-b239-4b180343b61a",
     "showTitle": false,
     "tableResultSettingsMap": {},
     "title": ""
    }
   },
   "outputs": [],
   "source": [
    "-- counts for 'Analyzed but missed SLA' sends\n",
    "CREATE OR REPLACE TEMPORARY VIEW p0_missed_sla_sends\n",
    "AS\n",
    "SELECT\n",
    "  DATE(ed.report_timestamp) AS received_date,\n",
    "  COUNT(DISTINCT ed.sha256_id) AS missed_sla_sends_count\n",
    "FROM enhanced_feedback.gold.email_digest ed\n",
    "LEFT JOIN enhanced_feedback.silver.labeling_ui ui ON ed.sha256_id = ui.sha256_id\n",
    "WHERE ui.priority = 'P0'\n",
    "  AND ed.report_timestamp > DATE_SUB(NOW(), 30) \n",
    "  AND (\n",
    "    sent_at_timestamp IS NOT NULL AND analysis_timestamp IS NOT NULL AND date_sub(analysis_timestamp, 2) > report_timestamp \n",
    "  )\n",
    "GROUP BY DATE(ed.report_timestamp);\n",
    "\n",
    "--  PREVIOUS week (Sunday to Saturday)\n",
    "WITH DateSeries AS ( \n",
    "  SELECT date_add(date_sub(DATE_TRUNC('WEEK', CURRENT_DATE), 8), n) AS report_date \n",
    "  FROM (SELECT explode(sequence(0, 6)) AS n) \n",
    ")\n",
    "SELECT\n",
    "  date_format(report_date, 'EEEE') AS day_name,\n",
    "  COALESCE(ps.missed_sla_sends_count, 0) AS sla_expired_count,\n",
    "  ds.report_date AS reported_date\n",
    "FROM\n",
    "  DateSeries ds \n",
    "LEFT JOIN\n",
    "  p0_missed_sla_sends ps ON ds.report_date = ps.received_date \n",
    "ORDER BY\n",
    "  dayofweek(ds.report_date);"
   ]
  },
  {
   "cell_type": "markdown",
   "metadata": {
    "application/vnd.databricks.v1+cell": {
     "cellMetadata": {},
     "inputWidgets": {},
     "nuid": "8d13e9e8-fc3d-4bbe-985a-7dff116e661a",
     "showTitle": false,
     "tableResultSettingsMap": {},
     "title": ""
    }
   },
   "source": [
    "# Query 4 : sla stats (current week)"
   ]
  },
  {
   "cell_type": "code",
   "execution_count": 0,
   "metadata": {
    "application/vnd.databricks.v1+cell": {
     "cellMetadata": {
      "byteLimit": 2048000,
      "rowLimit": 10000
     },
     "inputWidgets": {},
     "nuid": "8d4258f0-281e-4d64-8b47-2a5b8fb93f4f",
     "showTitle": false,
     "tableResultSettingsMap": {},
     "title": ""
    }
   },
   "outputs": [],
   "source": [
    "-- samples that missed SLA in the current week\n",
    "SELECT\n",
    "  cf.essMessageId,\n",
    "  DATE(cf.labelData.report_date) AS report_date, \n",
    "  cf.labelData.history[1]['label'] AS first_classification,\n",
    "  cf.labelData.history[2]['label'] AS second_classification,\n",
    "  cf.labelData.history[3]['label'] AS third_classification,\n",
    "  cf.priority\n",
    "  --cf.labelData.history AS labelHistory \n",
    "FROM\n",
    "  enhanced_feedback.silver.customer_feedback cf\n",
    "JOIN\n",
    "  enhanced_feedback.gold.email_digest ed ON cf.sha256_id = ed.sha256_id \n",
    "WHERE\n",
    "  -- Filter for the 'Analyzed but missed SLA' condition based on email_digest data\n",
    "  ed.sent_at_timestamp IS NOT NULL\n",
    "  AND ed.analysis_timestamp IS NOT NULL\n",
    "  AND date_sub(ed.analysis_timestamp, 2) > ed.report_timestamp \n",
    "\n",
    "  -- Filter for the date range of the CURRENT week based on report_date\n",
    "  AND DATE(cf.labelData.report_date) BETWEEN date_sub(current_date(), dayofweek(current_date()) - 1) AND date_add(current_date(), 7 - dayofweek(current_date()))\n",
    "ORDER BY cf.labelData.report_date; "
   ]
  },
  {
   "cell_type": "markdown",
   "metadata": {
    "application/vnd.databricks.v1+cell": {
     "cellMetadata": {},
     "inputWidgets": {},
     "nuid": "0722f406-306c-4b1b-a6e7-f72f530b9236",
     "showTitle": false,
     "tableResultSettingsMap": {},
     "title": ""
    }
   },
   "source": [
    "# Query 5 : sla stats (previous week)"
   ]
  },
  {
   "cell_type": "code",
   "execution_count": 0,
   "metadata": {
    "application/vnd.databricks.v1+cell": {
     "cellMetadata": {
      "byteLimit": 2048000,
      "rowLimit": 10000
     },
     "inputWidgets": {},
     "nuid": "73b6d906-c81d-4fb9-afa1-2b22ff4e0aeb",
     "showTitle": false,
     "tableResultSettingsMap": {},
     "title": ""
    }
   },
   "outputs": [],
   "source": [
    "-- samples that missed SLA in the previous week\n",
    "SELECT\n",
    "  cf.essMessageId,\n",
    "  DATE(cf.labelData.report_date) AS report_date, \n",
    "  cf.labelData.history[1]['label'] AS first_classification,\n",
    "  cf.labelData.history[2]['label'] AS second_classification,\n",
    "  cf.labelData.history[3]['label'] AS third_classification,\n",
    "  cf.priority\n",
    "  --cf.labelData.history AS labelHistory \n",
    "FROM\n",
    "  enhanced_feedback.silver.customer_feedback cf\n",
    "JOIN\n",
    "  enhanced_feedback.gold.email_digest ed ON cf.sha256_id = ed.sha256_id \n",
    "WHERE\n",
    "  -- Filter for the 'Analyzed but missed SLA' condition based on email_digest data\n",
    "  ed.sent_at_timestamp IS NOT NULL\n",
    "  AND ed.analysis_timestamp IS NOT NULL\n",
    "  AND date_sub(ed.analysis_timestamp, 2) > ed.report_timestamp \n",
    "\n",
    "  AND DATE(cf.labelData.report_date) BETWEEN date_sub(next_day(current_date(), 'SU'), 14) AND date_sub(next_day(current_date(), 'SU'), 8)\n",
    "ORDER BY cf.labelData.report_date; "
   ]
  },
  {
   "cell_type": "markdown",
   "metadata": {
    "application/vnd.databricks.v1+cell": {
     "cellMetadata": {},
     "inputWidgets": {},
     "nuid": "5c502e69-9dc6-484c-9da7-5f3e066feffb",
     "showTitle": false,
     "tableResultSettingsMap": {},
     "title": ""
    }
   },
   "source": [
    "# Dashboard 4 : sla stats summary\n",
    "![dashboard_image8.png](./dashboard_image8.png \"dashboard_image8.png\")\n",
    "![dashboard_image9.png](./dashboard_image9.png \"dashboard_image9.png\")"
   ]
  },
  {
   "cell_type": "code",
   "execution_count": 0,
   "metadata": {
    "application/vnd.databricks.v1+cell": {
     "cellMetadata": {},
     "inputWidgets": {},
     "nuid": "382d0735-612c-4d7c-8cd1-3930b0ab7cb8",
     "showTitle": false,
     "tableResultSettingsMap": {},
     "title": ""
    }
   },
   "outputs": [],
   "source": []
  }
 ],
 "metadata": {
  "application/vnd.databricks.v1+notebook": {
   "computePreferences": null,
   "dashboards": [],
   "environmentMetadata": {
    "base_environment": "",
    "environment_version": "2"
   },
   "inputWidgetPreferences": null,
   "language": "sql",
   "notebookMetadata": {
    "pythonIndentUnit": 4
   },
   "notebookName": "labeling stats notebook",
   "widgets": {}
  },
  "language_info": {
   "name": "sql"
  }
 },
 "nbformat": 4,
 "nbformat_minor": 0
}
